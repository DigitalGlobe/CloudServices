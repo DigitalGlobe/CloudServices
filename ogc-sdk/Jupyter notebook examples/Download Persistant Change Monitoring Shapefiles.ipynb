{
 "cells": [
  {
   "cell_type": "markdown",
   "id": "2bf86fc2",
   "metadata": {},
   "source": [
    "## Download PCM Shapefiles"
   ]
  },
  {
   "cell_type": "markdown",
   "id": "39c13fab",
   "metadata": {},
   "source": [
    "In this notebook, we will download a shapefile from the Persistant Change Monitoring layer using a WFS request. First, we will initilize the Maxar-OGC module."
   ]
  },
  {
   "cell_type": "code",
   "execution_count": null,
   "id": "50a4549c",
   "metadata": {},
   "outputs": [],
   "source": [
    "from Maxar_OGC import Interface\n",
    "\n",
    "try:\n",
    "  sw_ogc = Interface() # if .ogc-config was created\n",
    "except:\n",
    "  sw_ogc = Interface('https://securewatch.maxar.com/','<connect_id>') # if .ogc-config was not created"
   ]
  },
  {
   "cell_type": "markdown",
   "id": "124e5116",
   "metadata": {},
   "source": [
    "#### Next, we will see what we can filter the PCM layer by using the get_filter_parameters function."
   ]
  },
  {
   "cell_type": "code",
   "execution_count": null,
   "id": "6c627029",
   "metadata": {},
   "outputs": [],
   "source": [
    "typename='PCMChangePolygons'\n",
    "sw_ogc.get_filter_parameters(typename=typename)"
   ]
  },
  {
   "cell_type": "markdown",
   "id": "4ea111a3",
   "metadata": {},
   "source": [
    "#### Let's filter by year and view the data."
   ]
  },
  {
   "cell_type": "code",
   "execution_count": null,
   "id": "f041f540",
   "metadata": {},
   "outputs": [],
   "source": [
    "bbox = \"39.84387,-105.05608,39.95133,-104.94827\"\n",
    "filter = \"Year >= 2019\"\n",
    "\n",
    "PCMdata = sw_ogc.search(typename='PCMChangePolygons', bbox=bbox, filter=filter)\n",
    "for polygon in PCMdata:\n",
    "    print(polygon['properties']['Year'])"
   ]
  },
  {
   "cell_type": "markdown",
   "id": "410433fa",
   "metadata": {},
   "source": [
    "#### Download the data by adding shapefile=True and specifying a folder"
   ]
  },
  {
   "cell_type": "code",
   "execution_count": null,
   "id": "ad316ae4",
   "metadata": {},
   "outputs": [],
   "source": [
    "sw_ogc.search(typename='PCMChangePolygons', bbox=bbox, filter=filter, shapefile=True, download_path=r'C:\\Users\\wi008132\\Downloads\\test\\test2.zip')"
   ]
  },
  {
   "cell_type": "code",
   "execution_count": null,
   "id": "562324f8",
   "metadata": {},
   "outputs": [],
   "source": []
  }
 ],
 "metadata": {
  "kernelspec": {
   "display_name": "Python 3 (ipykernel)",
   "language": "python",
   "name": "python3"
  },
  "language_info": {
   "codemirror_mode": {
    "name": "ipython",
    "version": 3
   },
   "file_extension": ".py",
   "mimetype": "text/x-python",
   "name": "python",
   "nbconvert_exporter": "python",
   "pygments_lexer": "ipython3",
   "version": "3.7.13"
  }
 },
 "nbformat": 4,
 "nbformat_minor": 5
}
