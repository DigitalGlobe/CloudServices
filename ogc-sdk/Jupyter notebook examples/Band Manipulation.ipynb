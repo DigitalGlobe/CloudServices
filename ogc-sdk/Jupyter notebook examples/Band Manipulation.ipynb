{
 "cells": [
  {
   "cell_type": "markdown",
   "id": "4c0c7ea6",
   "metadata": {},
   "source": [
    "## Band Manipulation"
   ]
  },
  {
   "cell_type": "markdown",
   "id": "2eb7eb5c",
   "metadata": {},
   "source": [
    "#### Initialize the Maxar-OGC Module"
   ]
  },
  {
   "cell_type": "code",
   "execution_count": null,
   "id": "b29bf9c1",
   "metadata": {},
   "outputs": [],
   "source": [
    "from Maxar_OGC import Interface\n",
    "\n",
    "try:\n",
    "  sw_ogc = Interface() # if .ogc-config was created\n",
    "except:\n",
    "  sw_ogc = Interface('https://securewatch.maxar.com/','<connect_id>') # if .ogc-config was not created"
   ]
  },
  {
   "cell_type": "markdown",
   "id": "2bdf0d7e",
   "metadata": {},
   "source": [
    "#### Setting the output location to the default working directory"
   ]
  },
  {
   "cell_type": "code",
   "execution_count": null,
   "id": "114e5a75",
   "metadata": {},
   "outputs": [],
   "source": [
    "import os\n",
    "output_location = os.getcwd()\n",
    "print(output_location)"
   ]
  },
  {
   "cell_type": "markdown",
   "id": "6473dbd5",
   "metadata": {},
   "source": [
    "#### Selecting suitable imagery for band manipulation\n",
    "Suitable imagery must have a product type of either SWIR 8-Band or MS1_MS2"
   ]
  },
  {
   "cell_type": "code",
   "execution_count": null,
   "id": "a9d65a3f",
   "metadata": {},
   "outputs": [],
   "source": [
    "filter = \"(acquisitionDate>='2022-01-01')AND(cloudCover<0.20)\"\n",
    "bbox = \"39.886624,-105.168686,39.935408,-105.063543\"\n",
    "feature_dict = sw_ogc.search(bbox=bbox, filter=filter)\n",
    "feature_ids=[]\n",
    "print('Total number of features: {}'.format(feature_dict['totalFeatures']))\n",
    "band_check_list = ['MS1_MS2', 'SWIR 8-Band']\n",
    "\n",
    "for item in feature_dict['features']:\n",
    "    if item['properties']['productType'] in band_check_list:\n",
    "        feature_ids.append(item['id'])\n",
    "        print(item)\n",
    "print(feature_ids)"
   ]
  },
  {
   "cell_type": "markdown",
   "id": "8e2cdae0",
   "metadata": {},
   "source": [
    "#### Selecting Band Combination\n",
    "Band combination is a list of at least one and no more than four strings of desired bands"
   ]
  },
  {
   "cell_type": "code",
   "execution_count": null,
   "id": "302d8dd2",
   "metadata": {},
   "outputs": [],
   "source": [
    "band_combination = ['R', 'G', 'B', 'C']\n",
    "for feature in feature_ids:\n",
    "    output_filename=output_location + r'\\{}'.format(feature) + '.jpeg'\n",
    "    sw_ogc.band_manipulation(bbox=bbox, featureid=feature, band_combination=band_combination, download=True, \n",
    "                             outputpath=output_filename)"
   ]
  },
  {
   "cell_type": "markdown",
   "id": "a43ecc07",
   "metadata": {},
   "source": [
    "#### Additional Resources\n",
    "A list of valid band parameters can be found [here](https://securewatchdocs.maxar.com/en-us/Miscellaneous/DevGuides/WMTS/WMTS_GetTile.htm#TheBandsParameter)"
   ]
  }
 ],
 "metadata": {
  "kernelspec": {
   "display_name": "Python 3 (ipykernel)",
   "language": "python",
   "name": "python3"
  },
  "language_info": {
   "codemirror_mode": {
    "name": "ipython",
    "version": 3
   },
   "file_extension": ".py",
   "mimetype": "text/x-python",
   "name": "python",
   "nbconvert_exporter": "python",
   "pygments_lexer": "ipython3",
   "version": "3.7.11"
  }
 },
 "nbformat": 4,
 "nbformat_minor": 5
}
