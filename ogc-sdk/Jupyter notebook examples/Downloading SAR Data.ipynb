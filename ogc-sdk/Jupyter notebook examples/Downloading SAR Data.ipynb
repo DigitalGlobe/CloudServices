{
 "cells": [
  {
   "cell_type": "markdown",
   "id": "e7054a8c",
   "metadata": {},
   "source": [
    "## Downloading SAR Data in Maxar GEGD\n",
    "This example workflow will guide a user through downloading SAR data in the Maxar GEGD platform. This workflow will cover:\n",
    "* Searching for SAR data\n",
    "* Selecting SAR imagery\n",
    "* Downloading SAR imagery"
   ]
  },
  {
   "cell_type": "markdown",
   "id": "d0b4f853",
   "metadata": {},
   "source": [
    "#### Initialize the Maxar-OGC Module"
   ]
  },
  {
   "cell_type": "code",
   "execution_count": null,
   "id": "9f4daf59",
   "metadata": {},
   "outputs": [],
   "source": [
    "from Maxar_OGC import Interface\n",
    "\n",
    "try:\n",
    "  gegd_ogc = Interface() # if .ogc-config was created\n",
    "except:\n",
    "  gegd_ogc = Interface('https://evwhs.digitalglobe.com/','<connect_id>', '<username>', '<password>' \n",
    "                       '<sar_username>', '<sar_password>') # if .ogc-config was not created"
   ]
  },
  {
   "cell_type": "markdown",
   "id": "43ec1d27",
   "metadata": {},
   "source": [
    "A SAR username and password are required to download SAR data"
   ]
  },
  {
   "cell_type": "markdown",
   "id": "cc430c15",
   "metadata": {},
   "source": [
    "#### Search for SAR imagery/Select SAR imagery\n",
    "The below function will search imagery utilizing a WFS request, parse out the SAR data from the request, and set the `featureId` and `legacyId` of each feature as a value in a list of dictionaries. The 4 most recent images will be chosen."
   ]
  },
  {
   "cell_type": "code",
   "execution_count": null,
   "id": "be16f74b",
   "metadata": {},
   "outputs": [],
   "source": [
    "bbox = \"32.669437,-117.247982,32.747291,-117.105331\"\n",
    "search_results = gegd_ogc.search(bbox=bbox)\n",
    "sar_imagery = []\n",
    "for image in search_results:\n",
    "    if image['properties']['dataLayer'] == \"nga_3rdparty\":\n",
    "        sar_imagery.append({\"featureId\": image['id'], \"legacyId\": image['properties']['legacyId']})\n",
    "desired_sar = sar_imagery[:4]\n",
    "for sar in desired_sar:\n",
    "    sar.update({\"legacyId\": sar['legacyId'].split(\"=\")[1].split(\"  target\")[0].split(\"'\")[1]})\n",
    "print(desired_sar)"
   ]
  },
  {
   "cell_type": "markdown",
   "id": "92a6ab76",
   "metadata": {},
   "source": [
    "#### Download SAR imagery\n",
    "With the SAR imagery selected, a user can utilize the below function to download the SAR imagery. The URL in the `legacyId` variable needs to passed into the function. An ouput path variable is declared below to set the download location on the machine. If no `ouptutpath` is selected, the data will download to the user's home directory. *Note: This process may take a while to finish downloading all SAR data.*"
   ]
  },
  {
   "cell_type": "code",
   "execution_count": null,
   "id": "49acc1a9",
   "metadata": {},
   "outputs": [],
   "source": [
    "outputpath = r\"<Path\\to\\directory\\data_name>\"\n",
    "desired_id = desired_sar[0]['legacyId']\n",
    "download = gegd_ogc.sar_download(desired_id, outputpath=outputpath)\n",
    "print(download)"
   ]
  }
 ],
 "metadata": {
  "kernelspec": {
   "display_name": "Python 3 (ipykernel)",
   "language": "python",
   "name": "python3"
  },
  "language_info": {
   "codemirror_mode": {
    "name": "ipython",
    "version": 3
   },
   "file_extension": ".py",
   "mimetype": "text/x-python",
   "name": "python",
   "nbconvert_exporter": "python",
   "pygments_lexer": "ipython3",
   "version": "3.7.16"
  }
 },
 "nbformat": 4,
 "nbformat_minor": 5
}
