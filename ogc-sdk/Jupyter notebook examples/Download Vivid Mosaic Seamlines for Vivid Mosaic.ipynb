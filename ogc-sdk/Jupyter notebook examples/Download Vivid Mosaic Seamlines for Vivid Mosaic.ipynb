{
 "cells": [
  {
   "cell_type": "markdown",
   "id": "0c21a3d0",
   "metadata": {},
   "source": [
    "# Download Vivid Mosaic Seamlines for Vivid Mosaic\n",
    "\n",
    "In this example we are going to download the seamlines for an entire Vivid Product. We will be using a Basemaps connect ID to get access to Vivid mosaics.\n",
    "\n",
    "#### Initialize the Maxar-OGC Module"
   ]
  },
  {
   "cell_type": "code",
   "execution_count": 1,
   "id": "732731f7",
   "metadata": {},
   "outputs": [],
   "source": [
    "Maxar_OGC import Interface\n",
    "\n",
    "try:\n",
    "  sw_ogc = Interface() # if .ogc-config was created\n",
    "except:\n",
    "  sw_ogc = Interface('https://securewatch.maxar.com/','<connect_id>') # if .ogc-config was not created"
   ]
  },
  {
   "cell_type": "markdown",
   "id": "e4232941",
   "metadata": {},
   "source": [
    "#### Search for available products over an area. \n",
    "This section searches for all the features over a given BBOX, then prints a list of all the products available in the area."
   ]
  },
  {
   "cell_type": "code",
   "execution_count": 2,
   "id": "35fc01a7",
   "metadata": {},
   "outputs": [
    {
     "name": "stdout",
     "output_type": "stream",
     "text": [
      "87\n",
      "{'VIVID2_NA25_19Q4', 'VIVID2_NA25_19Q1', 'VIVID_NA25_20Q2', 'VIVID_NA25_20Q4', 'BBA_BGRN_VIVID_NA25_20Q4', 'Vivid_Standard_US20_21Q4', 'Vivid_Standard_30_US20_21Q4', 'Vivid_Basic_US20_21Q4', 'BBA_BGRN_VIVID_NA25_20Q2'}\n"
     ]
    }
   ],
   "source": [
    "typename = \"MaxarCatalogMosaicSeamlines\"\n",
    "bbox = \"39.622615,-105.174866,39.909736,-104.713440\" #BBOX is Denver, CO.\n",
    "\n",
    "#search for products\n",
    "search_results = sw_ogc.search(bbox=bbox, typename=typename, shapefile=False)\n",
    "\n",
    "#Maxar Catalog Mosaic Seamlines searches will return the first 1000 features. If your BBOX is too big, you may not get a\n",
    "#complete list of all products available. If the length is under 1000, then your BBOX is appropriately sized.\n",
    "print(len(search_results))\n",
    "\n",
    "#create a set of all the product IDs available\n",
    "products = set()\n",
    "\n",
    "for i in range(len(search_results)):\n",
    "    products.add(search_results[i]['properties']['product_id'])\n",
    "\n",
    "print(products)"
   ]
  },
  {
   "cell_type": "markdown",
   "id": "996667a9",
   "metadata": {},
   "source": [
    "#### Decide which product you want to download from the above list. In this example we are using 'Vivid_Standard_US20_21Q4'.\n",
    "If the product has less than 1000 features, you can download the whole thing in one request using the following code."
   ]
  },
  {
   "cell_type": "code",
   "execution_count": 3,
   "id": "42e51703",
   "metadata": {},
   "outputs": [
    {
     "name": "stdout",
     "output_type": "stream",
     "text": [
      "926\n"
     ]
    },
    {
     "data": {
      "text/plain": [
       "'C:\\\\Users\\\\wi008132\\\\Downloads\\\\example_dup_dup.zip'"
      ]
     },
     "execution_count": 3,
     "metadata": {},
     "output_type": "execute_result"
    }
   ],
   "source": [
    "#create filter based on product ID.\n",
    "product_id = 'Vivid_Standard_US20_21Q4'\n",
    "filter = \"(product_id = '{}')\".format(product_id)\n",
    "\n",
    "#Note that some products may contain over 1000 features. In this case, the downloaded SHP will have exactly 1000 \n",
    "#features because that's where the download will stop. When downloading these features, ensure you provide a BBOX argument that\n",
    "#reduces the amount of features to <1000.\n",
    "search_results = sw_ogc.search(typename=typename, shapefile=False, filter=filter)\n",
    "print(len(search_results))\n",
    "\n",
    "#Declare download path\n",
    "download_path = \"C:\\\\Users\\\\wi008132\\\\Downloads\\\\example.zip\"\n",
    "\n",
    "#Download it by adding the argument Shapefile = True and dropping the BBOX.\n",
    "sw_ogc.search(typename=typename, shapefile=True, filter=filter, download_path=download_path)"
   ]
  },
  {
   "cell_type": "markdown",
   "id": "bbfafdb9",
   "metadata": {},
   "source": [
    "#### If the product you choose has over 1000 features, you'll need to split the requests into multiple BBOXs to download all the seamlines. In this example, we'll use product_id = 'BBA_BGRN_VIVID_NA25_20Q4'\n",
    "The following code uses the MaxarCatalogMosaicProducts typename to extract the entire extent of the product."
   ]
  },
  {
   "cell_type": "code",
   "execution_count": 4,
   "id": "19fecabe",
   "metadata": {},
   "outputs": [
    {
     "name": "stdout",
     "output_type": "stream",
     "text": [
      "(36.4746, -113.291, 49.3066, -100.459)\n"
     ]
    }
   ],
   "source": [
    "typename = \"MaxarCatalogMosaicProducts\"\n",
    "\n",
    "#This product ID has over 1000 features\n",
    "product_id = 'BBA_BGRN_VIVID_NA25_20Q4'\n",
    "filter = \"(product_id = '{}')\".format(product_id)\n",
    "\n",
    "#search for the chosen mosaic product\n",
    "search_results = sw_ogc.search(typename=typename, shapefile=False, filter = filter)\n",
    "\n",
    "#extract the polygon of the product\n",
    "coords = search_results[0]['geometry']['coordinates']\n",
    "\n",
    "#takes the polygon and converts it to a BBOX of the extent\n",
    "def findExtent(coords):\n",
    "    lats = []\n",
    "    lons = []\n",
    "\n",
    "    for XYpair in coords[0][0]:\n",
    "        lons.append(XYpair[0])\n",
    "        lats.append(XYpair[1])\n",
    "\n",
    "    extent = (min(lats), min(lons), max(lats), max(lons))\n",
    "    return(extent)\n",
    "\n",
    "#Run the function to find the extent of the product\n",
    "extentBBOX = findExtent(coords)\n",
    "print(extentBBOX)"
   ]
  },
  {
   "cell_type": "markdown",
   "id": "a25ff9a8",
   "metadata": {},
   "source": [
    "#### Take the extent and break it into multiple BBOXs"
   ]
  },
  {
   "cell_type": "code",
   "execution_count": 5,
   "id": "f0fe547b",
   "metadata": {},
   "outputs": [
    {
     "name": "stdout",
     "output_type": "stream",
     "text": [
      "{'_r0_c0': '47.3066,-113.291,49.3066,-111.291', '_r1_c0': '45.3066,-113.291,47.3066,-111.291', '_r2_c0': '43.3066,-113.291,45.3066,-111.291', '_r3_c0': '41.3066,-113.291,43.3066,-111.291', '_r4_c0': '39.3066,-113.291,41.3066,-111.291', '_r5_c0': '37.3066,-113.291,39.3066,-111.291', '_r6_c0': '36.4746,-113.291,37.3066,-111.291', '_r0_c1': '47.3066,-111.291,49.3066,-109.291', '_r1_c1': '45.3066,-111.291,47.3066,-109.291', '_r2_c1': '43.3066,-111.291,45.3066,-109.291', '_r3_c1': '41.3066,-111.291,43.3066,-109.291', '_r4_c1': '39.3066,-111.291,41.3066,-109.291', '_r5_c1': '37.3066,-111.291,39.3066,-109.291', '_r6_c1': '36.4746,-111.291,37.3066,-109.291', '_r0_c2': '47.3066,-109.291,49.3066,-107.291', '_r1_c2': '45.3066,-109.291,47.3066,-107.291', '_r2_c2': '43.3066,-109.291,45.3066,-107.291', '_r3_c2': '41.3066,-109.291,43.3066,-107.291', '_r4_c2': '39.3066,-109.291,41.3066,-107.291', '_r5_c2': '37.3066,-109.291,39.3066,-107.291', '_r6_c2': '36.4746,-109.291,37.3066,-107.291', '_r0_c3': '47.3066,-107.291,49.3066,-105.291', '_r1_c3': '45.3066,-107.291,47.3066,-105.291', '_r2_c3': '43.3066,-107.291,45.3066,-105.291', '_r3_c3': '41.3066,-107.291,43.3066,-105.291', '_r4_c3': '39.3066,-107.291,41.3066,-105.291', '_r5_c3': '37.3066,-107.291,39.3066,-105.291', '_r6_c3': '36.4746,-107.291,37.3066,-105.291', '_r0_c4': '47.3066,-105.291,49.3066,-103.291', '_r1_c4': '45.3066,-105.291,47.3066,-103.291', '_r2_c4': '43.3066,-105.291,45.3066,-103.291', '_r3_c4': '41.3066,-105.291,43.3066,-103.291', '_r4_c4': '39.3066,-105.291,41.3066,-103.291', '_r5_c4': '37.3066,-105.291,39.3066,-103.291', '_r6_c4': '36.4746,-105.291,37.3066,-103.291', '_r0_c5': '47.3066,-103.291,49.3066,-101.291', '_r1_c5': '45.3066,-103.291,47.3066,-101.291', '_r2_c5': '43.3066,-103.291,45.3066,-101.291', '_r3_c5': '41.3066,-103.291,43.3066,-101.291', '_r4_c5': '39.3066,-103.291,41.3066,-101.291', '_r5_c5': '37.3066,-103.291,39.3066,-101.291', '_r6_c5': '36.4746,-103.291,37.3066,-101.291', '_r0_c6': '47.3066,-101.291,49.3066,-100.459', '_r1_c6': '45.3066,-101.291,47.3066,-100.459', '_r2_c6': '43.3066,-101.291,45.3066,-100.459', '_r3_c6': '41.3066,-101.291,43.3066,-100.459', '_r4_c6': '39.3066,-101.291,41.3066,-100.459', '_r5_c6': '37.3066,-101.291,39.3066,-100.459', '_r6_c6': '36.4746,-101.291,37.3066,-100.459'}\n"
     ]
    }
   ],
   "source": [
    "#This function takes the extent of the product and breaks the into smaller BBOX's.\n",
    "def BBOX_creation(extentBBOX):\n",
    "    #Define variables from the extent\n",
    "    MinY = extentBBOX[0]\n",
    "    MinX = extentBBOX[1]\n",
    "    MaxY = extentBBOX[2]\n",
    "    MaxX = extentBBOX[3]\n",
    "    \n",
    "    #Starting points. Start with MaxY and MinX so the tiles start building from the Northwest corner.\n",
    "    Lat = MaxY\n",
    "    Lon = MinX\n",
    "    Lats = []\n",
    "    Lons = []\n",
    "    \n",
    "    #Each bbox will be 2x2 by lines of latitude.\n",
    "    while Lat > MinY:\n",
    "        Lats.append(Lat)\n",
    "        Lat = Lat-2\n",
    "    Lats.append(MinY)\n",
    "\n",
    "    while Lon < MaxX:\n",
    "        Lons.append(Lon)\n",
    "        Lon = Lon+2\n",
    "    Lons.append(MaxX)\n",
    "    \n",
    "    #Loop through the rows (Lons) and columns (Lats) to create a dictionary of bboxes and tiles.\n",
    "    tiles = {}\n",
    "    for i in range(len(Lats)-1):\n",
    "        for j in range(len(Lons)-1):\n",
    "            \n",
    "            #add keys and values\n",
    "            tiles['_r' + str(j) + '_c' + str(i)] = str(Lats[j+1])+ ',' + str(Lons[i]) + ',' + str(Lats[j]) + ',' + str(Lons[i+1])\n",
    "\n",
    "    return tiles\n",
    "\n",
    "tiles = BBOX_creation(extentBBOX)\n",
    "print(tiles)"
   ]
  },
  {
   "cell_type": "markdown",
   "id": "9e4023fd",
   "metadata": {},
   "source": [
    "#### Switch back to MaxarCatalogMosaicSeamlines and loop through the bboxes to download them."
   ]
  },
  {
   "cell_type": "code",
   "execution_count": 6,
   "id": "01e46916",
   "metadata": {},
   "outputs": [
    {
     "name": "stdout",
     "output_type": "stream",
     "text": [
      "_r0_c0 downloaded\n",
      "_r1_c0 downloaded\n",
      "_r2_c0 downloaded\n",
      "_r3_c0 downloaded\n",
      "_r4_c0 downloaded\n",
      "_r5_c0 downloaded\n",
      "_r6_c0 downloaded\n",
      "_r0_c1 downloaded\n",
      "_r1_c1 downloaded\n",
      "_r2_c1 downloaded\n",
      "_r3_c1 downloaded\n",
      "_r4_c1 downloaded\n",
      "_r5_c1 downloaded\n",
      "_r6_c1 downloaded\n",
      "_r0_c2 downloaded\n",
      "_r1_c2 downloaded\n",
      "_r2_c2 downloaded\n",
      "_r3_c2 downloaded\n",
      "_r4_c2 downloaded\n",
      "_r5_c2 downloaded\n",
      "_r6_c2 downloaded\n",
      "_r0_c3 downloaded\n",
      "_r1_c3 downloaded\n",
      "_r2_c3 downloaded\n",
      "_r3_c3 downloaded\n",
      "_r4_c3 downloaded\n",
      "_r5_c3 downloaded\n",
      "_r6_c3 downloaded\n",
      "_r0_c4 downloaded\n",
      "_r1_c4 downloaded\n",
      "_r2_c4 downloaded\n",
      "_r3_c4 downloaded\n",
      "_r4_c4 downloaded\n",
      "_r5_c4 downloaded\n",
      "_r6_c4 downloaded\n",
      "_r0_c5 downloaded\n",
      "_r1_c5 downloaded\n",
      "_r2_c5 downloaded\n",
      "_r3_c5 downloaded\n",
      "_r4_c5 downloaded\n",
      "_r5_c5 downloaded\n",
      "_r6_c5 downloaded\n",
      "_r0_c6 downloaded\n",
      "_r1_c6 downloaded\n",
      "_r2_c6 downloaded\n",
      "_r3_c6 downloaded\n",
      "_r4_c6 downloaded\n",
      "_r5_c6 downloaded\n",
      "_r6_c6 downloaded\n"
     ]
    }
   ],
   "source": [
    "typename = \"MaxarCatalogMosaicSeamlines\"\n",
    "outputFolder = \"C:\\\\Users\\\\wi008132\\\\Downloads\\\\\"\n",
    "fileNames = 'example'\n",
    "\n",
    "#Use the items method to loop through dictionary.\n",
    "for key, value in tiles.items():\n",
    "    sw_ogc.search(bbox=value, typename=typename, shapefile=True, filter = filter, download_path = outputFolder + fileNames + key + '.zip')\n",
    "    print(key + ' downloaded')\n",
    "    #uncomment these lines if you want to see how many features are included with each shp\n",
    "    #search = sw_ogc.search(bbox=bboxes[0][i], typename=typename, filter = filter)\n",
    "    #print(len(search))"
   ]
  },
  {
   "cell_type": "code",
   "execution_count": null,
   "id": "a4a592d5",
   "metadata": {},
   "outputs": [],
   "source": []
  }
 ],
 "metadata": {
  "kernelspec": {
   "display_name": "Python 3 (ipykernel)",
   "language": "python",
   "name": "python3"
  },
  "language_info": {
   "codemirror_mode": {
    "name": "ipython",
    "version": 3
   },
   "file_extension": ".py",
   "mimetype": "text/x-python",
   "name": "python",
   "nbconvert_exporter": "python",
   "pygments_lexer": "ipython3",
   "version": "3.9.12"
  }
 },
 "nbformat": 4,
 "nbformat_minor": 5
}
