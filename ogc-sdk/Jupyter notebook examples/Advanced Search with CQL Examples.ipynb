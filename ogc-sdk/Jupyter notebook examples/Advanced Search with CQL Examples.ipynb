{
 "cells": [
  {
   "cell_type": "markdown",
   "id": "9052411f",
   "metadata": {},
   "source": [
    "## Advanced Search with CQL Examples"
   ]
  },
  {
   "cell_type": "markdown",
   "id": "fbb7369a",
   "metadata": {},
   "source": [
    "#### Initialize the Maxar-OGC Module"
   ]
  },
  {
   "cell_type": "code",
   "execution_count": null,
   "id": "d2860fa3",
   "metadata": {},
   "outputs": [],
   "source": [
    "from Maxar_OGC import Interface\n",
    "\n",
    "try:\n",
    "  sw_ogc = Interface() # if .ogc-config was created\n",
    "except:\n",
    "  sw_ogc = Interface('https://securewatch.maxar.com/','<connect_id>') # if .ogc-config was not created"
   ]
  },
  {
   "cell_type": "markdown",
   "id": "be35018d",
   "metadata": {},
   "source": [
    "#### Using a CQL Filter with a bbox\n",
    "In this example we are applying a filter to narrow the features returned.\n",
    "Note: You must include parenthesis for each parameter."
   ]
  },
  {
   "cell_type": "code",
   "execution_count": null,
   "id": "ac465af6",
   "metadata": {},
   "outputs": [],
   "source": [
    "filter = \"(acquisitionDate>='2022-01-01')AND(cloudCover<0.20)\"\n",
    "bbox = \"39.84387,-105.05608,39.95133,-104.94827\"\n",
    "\n",
    "feature_dict = sw_ogc.search(bbox=bbox, filter=filter)\n",
    "\n",
    "print('Total number of features: {}'.format(len(feature_dict)))\n",
    "print('Cloud Cover - Acquisition Date and Time - Feature ID')\n",
    "for item in feature_dict:\n",
    "    source=item['properties']['cloudCover']\n",
    "    acquisition_date=item['properties']['acquisitionDate']\n",
    "    feature=item['id']\n",
    "    print(source, '-',acquisition_date, '-', feature)"
   ]
  },
  {
   "cell_type": "markdown",
   "id": "7cff5ccc",
   "metadata": {},
   "source": [
    "#### CQL Filter with different logic operators\n",
    "In this example we are using the CQL filter with OR, LIKE, and a wildcard. Note: The % is a wildcard character that matches any number of characters."
   ]
  },
  {
   "cell_type": "code",
   "execution_count": null,
   "id": "02d8d028",
   "metadata": {},
   "outputs": [],
   "source": [
    "filter = \"(acquisitionDate>='2022-01-01')AND(source='WV01' OR source LIKE 'WV03%')\"\n",
    "bbox = \"39.84387,-105.05608,39.95133,-104.94827\"\n",
    "feature_dict = sw_ogc.search(bbox=bbox, filter=filter)\n",
    "\n",
    "print('Total number of features: {}'.format(len(feature_dict)))\n",
    "print('Source - Acquisition Date and Time - Feature ID')\n",
    "for item in feature_dict:\n",
    "    source=item['properties']['source']\n",
    "    acquisition_date=item['properties']['acquisitionDate']\n",
    "    feature=item['id']\n",
    "    print(source, '-',acquisition_date, '-', feature)"
   ]
  },
  {
   "cell_type": "markdown",
   "id": "1917d6bd",
   "metadata": {},
   "source": [
    "In this example we are using the CQL filter with LIKE and a wildcard to return only WV01 and WV02. WV03 is not returned because it is followed by more than one character. Note: The _ is a wildcard character that matches exactly one character."
   ]
  },
  {
   "cell_type": "code",
   "execution_count": null,
   "id": "f632478c",
   "metadata": {},
   "outputs": [],
   "source": [
    "filter = \"(acquisitionDate>='2022-01-01')AND(source LIKE 'WV0_')\"\n",
    "bbox = \"39.84387,-105.05608,39.95133,-104.94827\"\n",
    "feature_dict = sw_ogc.search(bbox=bbox, filter=filter)\n",
    "\n",
    "print('Total number of features: {}'.format(len(feature_dict)))\n",
    "for item in feature_dict:\n",
    "    print(item['properties']['source'])"
   ]
  },
  {
   "cell_type": "markdown",
   "id": "a262a201",
   "metadata": {},
   "source": [
    "For a list of all CQL parameters please see full documentation at https://securewatchdocs.maxar.com/en-us/Miscellaneous/DevGuides/Common_Query_Language/Query.htm?Highlight=cql"
   ]
  }
 ],
 "metadata": {
  "kernelspec": {
   "display_name": "Python 3 (ipykernel)",
   "language": "python",
   "name": "python3"
  },
  "language_info": {
   "codemirror_mode": {
    "name": "ipython",
    "version": 3
   },
   "file_extension": ".py",
   "mimetype": "text/x-python",
   "name": "python",
   "nbconvert_exporter": "python",
   "pygments_lexer": "ipython3",
   "version": "3.7.11"
  }
 },
 "nbformat": 4,
 "nbformat_minor": 5
}
