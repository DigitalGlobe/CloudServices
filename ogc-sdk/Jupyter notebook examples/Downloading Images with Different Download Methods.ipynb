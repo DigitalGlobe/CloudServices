{
 "cells": [
  {
   "cell_type": "markdown",
   "id": "1b5c3c68",
   "metadata": {},
   "source": [
    "## Downloading Images with Different Download Methods\n",
    "In this example we are going to search for all imagery that meets certain parameters and intersects a bbox. We will then download each image into a directory via different download methods."
   ]
  },
  {
   "cell_type": "markdown",
   "id": "83e46129",
   "metadata": {},
   "source": [
    "#### Initialize the Maxar-OGC Module"
   ]
  },
  {
   "cell_type": "code",
   "execution_count": null,
   "id": "c18a338f",
   "metadata": {},
   "outputs": [],
   "source": [
    "from Maxar_OGC import Interface\n",
    "\n",
    "try:\n",
    "  sw_ogc = Interface() # if .ogc-config was created\n",
    "except:\n",
    "  sw_ogc = Interface('https://securewatch.maxar.com/','<connect_id>') # if .ogc-config was not created"
   ]
  },
  {
   "cell_type": "markdown",
   "id": "d1268087",
   "metadata": {},
   "source": [
    "#### Search for an Image\n",
    "This function will search for imagery on the below Bbox. The return will be a dictionary containing metadata and results for your search."
   ]
  },
  {
   "cell_type": "code",
   "execution_count": null,
   "id": "d85a9e78",
   "metadata": {},
   "outputs": [],
   "source": [
    "bbox = \"39.84387,-105.05608,39.84887,-105.05108\"\n",
    "search_results = sw_ogc.search(bbox=bbox)\n",
    "print(search_results)"
   ]
  },
  {
   "cell_type": "markdown",
   "id": "4a312ac6",
   "metadata": {},
   "source": [
    "#### Select an Image\n",
    "Next we will isolate the features from the results above. Below, features will be a list of dictionaries where each dictionary in the list is a unique feature."
   ]
  },
  {
   "cell_type": "code",
   "execution_count": null,
   "id": "d8ddcbcc",
   "metadata": {},
   "outputs": [],
   "source": [
    "WV02_features = [i for i in search_results if i['properties']['source'] == 'WV02']\n",
    "print(WV02_features)"
   ]
  },
  {
   "cell_type": "markdown",
   "id": "aa539ba8",
   "metadata": {},
   "source": [
    "Now we will select an image from our specified search. We will take the first image in the WV02_features list. Because we did not specify a feature profile, the default profile will return features based on age. The first image will then be the newest image."
   ]
  },
  {
   "cell_type": "code",
   "execution_count": null,
   "id": "9d228962",
   "metadata": {},
   "outputs": [],
   "source": [
    "desired_image = WV02_features[0]\n",
    "desired_featureid = desired_image['id']\n",
    "print(desired_image)\n",
    "print(desired_featureid)"
   ]
  },
  {
   "cell_type": "markdown",
   "id": "82565686",
   "metadata": {},
   "source": [
    "### Download an Image\n",
    "Now that we have isolated the feature that we want to download we will need to specify a download location on our machine.\n",
    "Note: This sets the output location to the current working directory with a file name of Download.jpeg."
   ]
  },
  {
   "cell_type": "code",
   "execution_count": null,
   "id": "22632b20",
   "metadata": {},
   "outputs": [],
   "source": [
    "import os\n",
    "output_location = os.path.join(os.getcwd(), 'Download.jpeg')\n",
    "print(output_location)"
   ]
  },
  {
   "cell_type": "markdown",
   "id": "66134715",
   "metadata": {},
   "source": [
    "#### Download a browse image\n",
    "To download a browse image of the selected feature id, the function will need the feature id of the desired image. Setting display to True will allow you to visualize the image after it downloads."
   ]
  },
  {
   "cell_type": "code",
   "execution_count": null,
   "id": "a20a93b9",
   "metadata": {},
   "outputs": [],
   "source": [
    "download_browse_image = sw_ogc.download_browse_image(input_id=desired_featureid, img_format='jpeg', outputpath=output_location, display=True)"
   ]
  },
  {
   "cell_type": "markdown",
   "id": "5e5343b4",
   "metadata": {},
   "source": [
    "#### Download a list of tiles\n",
    "To download a list of tiles for the selected feature id, the function will need a bbox that is encompassed by the desired feature id and a zoom level."
   ]
  },
  {
   "cell_type": "markdown",
   "id": "e478cf96",
   "metadata": {},
   "source": [
    "Firstly, we may want to know how many tiles fall in the desired bbox. The function below will return a list of lists containing the actual calls for the imagery, and tuples containing the row, column, and zoom level of the tiles within the bbox. We have subset the list out to show only the tuples for this example."
   ]
  },
  {
   "cell_type": "code",
   "execution_count": null,
   "id": "b9c3fcfc",
   "metadata": {},
   "outputs": [],
   "source": [
    "tile_list = sw_ogc.get_tile_list_with_zoom(bbox=bbox, zoom_level=13)\n",
    "print(len(tile_list[1]))\n",
    "print(tile_list[1])"
   ]
  },
  {
   "cell_type": "markdown",
   "id": "d5a172c5",
   "metadata": {},
   "source": [
    "The tiles can now be downloaded. Setting display to True will allow you to visualize the images after they download."
   ]
  },
  {
   "cell_type": "code",
   "execution_count": null,
   "id": "d9fbc5b0",
   "metadata": {},
   "outputs": [],
   "source": [
    "download_tile_list = sw_ogc.download_tiles(bbox=bbox, zoom_level=13, img_format='jpeg', outputpath=output_location, display=True)"
   ]
  },
  {
   "cell_type": "markdown",
   "id": "ea930ae6",
   "metadata": {},
   "source": [
    "#### Downloading an image via feature id\n",
    "To download an image utilizing the feature id, the function will need the desired bbox, the desired feature id, and the grid offsets (desired resolution) for the image. Note: Larger bboxs may time-out and not return imagery. Images larger than 1 GB will also time-out. For this method we recommend a very small bbox and to not have your max coordinates be greater than 0.05 from your min coordinates."
   ]
  },
  {
   "cell_type": "code",
   "execution_count": null,
   "id": "0f4e8b7d",
   "metadata": {},
   "outputs": [],
   "source": [
    "download_with_feature_id = sw_ogc.download_image_with_feature_id(bbox=bbox, identifier=desired_featureid, gridoffsets='.0000045 ,.0000045', img_format='jpeg', outputpath=output_location)"
   ]
  },
  {
   "cell_type": "markdown",
   "id": "f784fa60",
   "metadata": {},
   "source": [
    "#### Downloading an image via pixel count\n",
    "To download an image utilizing pixel count, the function will need the desired bbox, and the desired height and width for the image. The limit for height and width is anything greater than 8000. Setting display to True will allow you to visualize the images after they download."
   ]
  },
  {
   "cell_type": "code",
   "execution_count": null,
   "id": "15ff01fa",
   "metadata": {},
   "outputs": [],
   "source": [
    "download_image_by_pixel_count = sw_ogc.download_image_by_pixel_count(bbox=bbox, height=512, width=512, img_format='jpeg', outputpath=output_location, display=True, featurecollection=desired_featureid)"
   ]
  },
  {
   "cell_type": "markdown",
   "id": "16887e90",
   "metadata": {},
   "source": [
    "#### Downloading an image via pixel count with a different stacking profile"
   ]
  },
  {
   "cell_type": "code",
   "execution_count": null,
   "id": "1d68a007",
   "metadata": {},
   "outputs": [],
   "source": [
    "download_image_by_pixel_count = sw_ogc.download_image_by_pixel_count(bbox=bbox, height=512, width=512, img_format='jpeg', outputpath=output_location, display=True, featureprofile=\"Global_Currency_Profile\")"
   ]
  },
  {
   "cell_type": "markdown",
   "id": "b5ac0db8",
   "metadata": {},
   "source": [
    "#### Download Full Resolution Image"
   ]
  },
  {
   "cell_type": "markdown",
   "id": "786d2dd7",
   "metadata": {},
   "source": [
    "######  This will be a large download of several files. \n",
    "The following command will download the full resolution of the imagery within the bbox. To download an entire strip in full resolution, omit the bbox variable. When declaring an output directory for a full resolution download, it must be a directory as opposed to a filename as instructed earlier. Printing the download_full_res object will return a message when the process is complete as well as the location of the files."
   ]
  },
  {
   "cell_type": "code",
   "execution_count": null,
   "id": "6a8cb678",
   "metadata": {},
   "outputs": [],
   "source": [
    "full_res_location = os.getcwd()\n",
    "download_full_res = sw_ogc.get_full_res_image(desired_featureid, bbox=bbox, outputdirectory=full_res_location)\n",
    "print(download_full_res)"
   ]
  },
  {
   "cell_type": "markdown",
   "id": "400b59cc",
   "metadata": {},
   "source": [
    "Included in the download will be a file name \"Grid_cell_coordinates.txt\" It will include a list of coordinates for all the downloaded image sections. With this you can reconstruct and geolocate the image. "
   ]
  }
 ],
 "metadata": {
  "kernelspec": {
   "display_name": "Python 3 (ipykernel)",
   "language": "python",
   "name": "python3"
  },
  "language_info": {
   "codemirror_mode": {
    "name": "ipython",
    "version": 3
   },
   "file_extension": ".py",
   "mimetype": "text/x-python",
   "name": "python",
   "nbconvert_exporter": "python",
   "pygments_lexer": "ipython3",
   "version": "3.7.11"
  }
 },
 "nbformat": 4,
 "nbformat_minor": 5
}
