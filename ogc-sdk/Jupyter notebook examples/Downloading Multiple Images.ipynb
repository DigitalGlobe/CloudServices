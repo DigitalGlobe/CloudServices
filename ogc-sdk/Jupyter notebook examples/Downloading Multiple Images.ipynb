{
 "cells": [
  {
   "cell_type": "markdown",
   "id": "8b4c8c52",
   "metadata": {},
   "source": [
    "## Downloading Multiple Images\n",
    "In this example we are going to search for all imagery that meets certain parameters and intersects a bbox. We will then download each image into a directory."
   ]
  },
  {
   "cell_type": "markdown",
   "id": "1d830b44",
   "metadata": {},
   "source": [
    "#### Initialize the Maxar-OGC Module"
   ]
  },
  {
   "cell_type": "code",
   "execution_count": null,
   "id": "39c97c58",
   "metadata": {},
   "outputs": [],
   "source": [
    "from Maxar_OGC import Interface\n",
    "\n",
    "try:\n",
    "  sw_ogc = Interface() # if .ogc-config was created\n",
    "except:\n",
    "  sw_ogc = Interface('https://securewatch.maxar.com/','<connect_id>') # if .ogc-config was not created"
   ]
  },
  {
   "cell_type": "markdown",
   "id": "57dfd67c",
   "metadata": {},
   "source": [
    "#### Setting the output location to the default working directory"
   ]
  },
  {
   "cell_type": "code",
   "execution_count": null,
   "id": "2c824ecd",
   "metadata": {},
   "outputs": [],
   "source": [
    "import os\n",
    "output_location = os.getcwd()\n",
    "print(output_location)"
   ]
  },
  {
   "cell_type": "markdown",
   "id": "c6a3c395",
   "metadata": {},
   "source": [
    "#### Creating a list of feature IDs to be downloaded\n",
    "This code is creating a list of all the feature IDs that meet our filter and bbox criteria. "
   ]
  },
  {
   "cell_type": "code",
   "execution_count": null,
   "id": "735a3c94",
   "metadata": {},
   "outputs": [],
   "source": [
    "filter = \"(acquisitionDate>='2022-01-01')AND(cloudCover<0.20)\"\n",
    "bbox = \"39.84387,-105.05608,39.95133,-104.94827\"\n",
    "feature_dict = sw_ogc.search(bbox=bbox, filter=filter)\n",
    "feature_ids=[]\n",
    "print('Total number of features: {}'.format(len(feature_dict)))\n",
    "\n",
    "for item in feature_dict:\n",
    "    feature_ids.append(item['id'])\n",
    "    print(item['id'])"
   ]
  },
  {
   "cell_type": "markdown",
   "id": "836f7121",
   "metadata": {},
   "source": [
    "#### Displaying the percent of a feature that resides within the given aoi\n",
    "This code iterates through each of the found features and displays the percent of the feature area that intersects the aoi."
   ]
  },
  {
   "cell_type": "code",
   "execution_count": null,
   "id": "b75b6f80",
   "metadata": {},
   "outputs": [],
   "source": [
    "for item in feature_dict:\n",
    "    print(item['id'], item['coverage'])"
   ]
  },
  {
   "cell_type": "markdown",
   "id": "71235b67",
   "metadata": {},
   "source": [
    "This code iterates through each of the found features and appends the features to a list if the coverage is at least 5 percent of the feature."
   ]
  },
  {
   "cell_type": "code",
   "execution_count": null,
   "id": "5acd6eae",
   "metadata": {},
   "outputs": [],
   "source": [
    "download_list = []\n",
    "for item in feature_dict:\n",
    "    if item['coverage'] >= 0.05:\n",
    "        print(item['id'], item['coverage'])\n",
    "        download_list.append(item['id'])"
   ]
  },
  {
   "cell_type": "markdown",
   "id": "099de0c2",
   "metadata": {},
   "source": [
    "#### Downloading each image\n",
    "This code iterates through the list created above and downloads each image as a jpeg. The filename is name of the feature ID. Note the formatting of the filter parameter requires single quotes around the featureId value."
   ]
  },
  {
   "cell_type": "code",
   "execution_count": null,
   "id": "0889dafb",
   "metadata": {},
   "outputs": [],
   "source": [
    "for feature in download_list:\n",
    "    output_filename = output_location + r'\\{}'.format(feature) + '.jpeg'\n",
    "    sw_ogc.download_image_by_pixel_count(bbox=bbox, height=512, width=512, img_format='jpeg', outputpath=output_filename, filter=\"featureId='{}'\".format(feature))"
   ]
  },
  {
   "cell_type": "code",
   "execution_count": null,
   "id": "d37f4d91",
   "metadata": {},
   "outputs": [],
   "source": []
  }
 ],
 "metadata": {
  "kernelspec": {
   "display_name": "Python 3 (ipykernel)",
   "language": "python",
   "name": "python3"
  },
  "language_info": {
   "codemirror_mode": {
    "name": "ipython",
    "version": 3
   },
   "file_extension": ".py",
   "mimetype": "text/x-python",
   "name": "python",
   "nbconvert_exporter": "python",
   "pygments_lexer": "ipython3",
   "version": "3.7.13"
  }
 },
 "nbformat": 4,
 "nbformat_minor": 5
}
