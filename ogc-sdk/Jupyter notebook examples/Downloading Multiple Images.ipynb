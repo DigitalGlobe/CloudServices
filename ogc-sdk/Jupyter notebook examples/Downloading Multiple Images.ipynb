{
 "cells": [
  {
   "cell_type": "markdown",
   "id": "bf62d4ce",
   "metadata": {},
   "source": [
    "## Downloading Multiple Images\n",
    "In this example we are going to search for all imagery that meets certain parameters and intersects a bbox. We will then download each image into a directory."
   ]
  },
  {
   "cell_type": "markdown",
   "id": "e2e95600",
   "metadata": {},
   "source": [
    "#### Initialize the Maxar-OGC Module"
   ]
  },
  {
   "cell_type": "code",
   "execution_count": null,
   "id": "d11a28ba",
   "metadata": {},
   "outputs": [],
   "source": [
    "from Maxar_OGC import Interface\n",
    "\n",
    "try:\n",
    "  sw_ogc = Interface() # if .ogc-config was created\n",
    "except:\n",
    "  sw_ogc = Interface('https://securewatch.maxar.com/','<connect_id>') # if .ogc-config was not created"
   ]
  },
  {
   "cell_type": "markdown",
   "id": "50fa2335",
   "metadata": {},
   "source": [
    "#### Setting the output location to the default working directory"
   ]
  },
  {
   "cell_type": "code",
   "execution_count": null,
   "id": "7fb06879",
   "metadata": {},
   "outputs": [],
   "source": [
    "import os\n",
    "output_location = os.getcwd()\n",
    "print(output_location)"
   ]
  },
  {
   "cell_type": "markdown",
   "id": "b558e55f",
   "metadata": {},
   "source": [
    "#### Creating a list of feature IDs to be downloaded\n",
    "This code is creating a list of all the feature IDs that meet our filter and bbox criteria. "
   ]
  },
  {
   "cell_type": "code",
   "execution_count": null,
   "id": "dfcd3a7e",
   "metadata": {},
   "outputs": [],
   "source": [
    "filter = \"(acquisitionDate>='2022-01-01')AND(cloudCover<0.20)\"\n",
    "bbox = \"39.84387,-105.05608,39.95133,-104.94827\"\n",
    "feature_dict = sw_ogc.search(bbox=bbox, filter=filter)\n",
    "feature_ids=[]\n",
    "print('Total number of features: {}'.format(feature_dict['totalFeatures']))\n",
    "\n",
    "for item in feature_dict['features']:\n",
    "    feature_ids.append(item['id'])\n",
    "    print(item['id'])"
   ]
  },
  {
   "cell_type": "markdown",
   "id": "154da7a1",
   "metadata": {},
   "source": [
    "#### Downloading each image\n",
    "This code iterates through the list created above and downloads each image as a jpeg. The filename is name of the feature ID. Note the formatting of the filter parameter requires single quotes around the featureId value."
   ]
  },
  {
   "cell_type": "code",
   "execution_count": null,
   "id": "ace3bca6",
   "metadata": {},
   "outputs": [],
   "source": [
    "for feature in feature_ids:\n",
    "    output_filename=output_location + r'\\{}'.format(feature) + '.jpeg'\n",
    "    sw_ogc.download_image(bbox=bbox, height=512, width=512, img_format='jpeg', filter=\"featureId='{}'\".format(feature), outputpath=output_filename)"
   ]
  }
 ],
 "metadata": {
  "kernelspec": {
   "display_name": "Python 3 (ipykernel)",
   "language": "python",
   "name": "python3"
  },
  "language_info": {
   "codemirror_mode": {
    "name": "ipython",
    "version": 3
   },
   "file_extension": ".py",
   "mimetype": "text/x-python",
   "name": "python",
   "nbconvert_exporter": "python",
   "pygments_lexer": "ipython3",
   "version": "3.7.11"
  }
 },
 "nbformat": 4,
 "nbformat_minor": 5
}
